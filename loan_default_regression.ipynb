{
 "cells": [
  {
   "cell_type": "code",
   "execution_count": 1,
   "metadata": {},
   "outputs": [],
   "source": [
    "import pandas as pd\n",
    "import matplotlib.pyplot as plt\n",
    "import numpy as np\n",
    "import seaborn as sns\n",
    "from sklearn.ensemble import RandomForestClassifier\n",
    "from sklearn.model_selection import train_test_split\n",
    "from sklearn.metrics import confusion_matrix, f1_score, accuracy_score, recall_score, roc_curve, auc, precision_score, plot_confusion_matrix\n",
    "from imblearn.over_sampling import SMOTE\n",
    "from sklearn.utils import resample"
   ]
  },
  {
   "cell_type": "code",
   "execution_count": 2,
   "metadata": {},
   "outputs": [],
   "source": [
    "loans_df_2 = pd.read_csv('/Users/temp/Downloads/Loan Default Prediction - Student Files/loans_df_2')"
   ]
  },
  {
   "cell_type": "code",
   "execution_count": 3,
   "metadata": {},
   "outputs": [
    {
     "data": {
      "text/plain": [
       "Index(['Unnamed: 0', 'UNIQUEID', 'DISBURSED_AMOUNT', 'ASSET_COST', 'LTV',\n",
       "       'MANUFACTURER_ID', 'EMPLOYMENT_TYPE', 'STATE_ID', 'AADHAR_FLAG',\n",
       "       'PAN_FLAG', 'VOTERID_FLAG', 'DRIVING_FLAG', 'PASSPORT_FLAG',\n",
       "       'PERFORM_CNS_SCORE', 'PERFORM_CNS_SCORE_DESCRIPTION',\n",
       "       'NEW_ACCTS_IN_LAST_SIX_MONTHS', 'DELINQUENT_ACCTS_IN_LAST_SIX_MONTHS',\n",
       "       'NO_OF_INQUIRIES', 'LOAN_DEFAULT', 'Age', 'DISBURSAL_MONTH',\n",
       "       'AVERAGE_ACCT_AGE_MONTHS', 'CREDIT_HISTORY_LENGTH_MONTHS',\n",
       "       'DISBURSED_BINS', 'TOTAL_NO_OF_ACCTS', 'TOTAL_ACTIVE_ACCTS',\n",
       "       'TOTAL_OVERDUE_ACCTS', 'TOTAL_CURRENT_BALANCE',\n",
       "       'TOTAL_SANCTIONED_AMOUNT', 'TOTAL_DISBURSED_AMOUNT', 'TOTAL_INSTAL_AMT',\n",
       "       'OVERDUE_PERCENT', 'DISBURSAL_DIFFERENCE'],\n",
       "      dtype='object')"
      ]
     },
     "execution_count": 3,
     "metadata": {},
     "output_type": "execute_result"
    }
   ],
   "source": [
    "loans_df_2.columns"
   ]
  },
  {
   "cell_type": "code",
   "execution_count": 4,
   "metadata": {},
   "outputs": [],
   "source": [
    "loans_df_2['STATE_ID'] = loans_df_2['STATE_ID'].astype('category')"
   ]
  },
  {
   "cell_type": "code",
   "execution_count": 5,
   "metadata": {},
   "outputs": [],
   "source": [
    "loans_df_sml = loans_df_2[['STATE_ID','LOAN_DEFAULT','PERFORM_CNS_SCORE','LTV','DISBURSED_BINS','DISBURSAL_MONTH','OVERDUE_PERCENT']]"
   ]
  },
  {
   "cell_type": "code",
   "execution_count": 6,
   "metadata": {},
   "outputs": [],
   "source": [
    "loans_df_sml_dm = pd.get_dummies(loans_df_sml,drop_first=True)"
   ]
  },
  {
   "cell_type": "code",
   "execution_count": 7,
   "metadata": {},
   "outputs": [
    {
     "name": "stdout",
     "output_type": "stream",
     "text": [
      "<class 'pandas.core.frame.DataFrame'>\n",
      "RangeIndex: 233154 entries, 0 to 233153\n",
      "Data columns (total 31 columns):\n",
      " #   Column                     Non-Null Count   Dtype  \n",
      "---  ------                     --------------   -----  \n",
      " 0   LOAN_DEFAULT               233154 non-null  int64  \n",
      " 1   PERFORM_CNS_SCORE          233154 non-null  int64  \n",
      " 2   LTV                        233154 non-null  float64\n",
      " 3   DISBURSAL_MONTH            233154 non-null  int64  \n",
      " 4   OVERDUE_PERCENT            233154 non-null  float64\n",
      " 5   STATE_ID_2                 233154 non-null  uint8  \n",
      " 6   STATE_ID_3                 233154 non-null  uint8  \n",
      " 7   STATE_ID_4                 233154 non-null  uint8  \n",
      " 8   STATE_ID_5                 233154 non-null  uint8  \n",
      " 9   STATE_ID_6                 233154 non-null  uint8  \n",
      " 10  STATE_ID_7                 233154 non-null  uint8  \n",
      " 11  STATE_ID_8                 233154 non-null  uint8  \n",
      " 12  STATE_ID_9                 233154 non-null  uint8  \n",
      " 13  STATE_ID_10                233154 non-null  uint8  \n",
      " 14  STATE_ID_11                233154 non-null  uint8  \n",
      " 15  STATE_ID_12                233154 non-null  uint8  \n",
      " 16  STATE_ID_13                233154 non-null  uint8  \n",
      " 17  STATE_ID_14                233154 non-null  uint8  \n",
      " 18  STATE_ID_15                233154 non-null  uint8  \n",
      " 19  STATE_ID_16                233154 non-null  uint8  \n",
      " 20  STATE_ID_17                233154 non-null  uint8  \n",
      " 21  STATE_ID_18                233154 non-null  uint8  \n",
      " 22  STATE_ID_19                233154 non-null  uint8  \n",
      " 23  STATE_ID_20                233154 non-null  uint8  \n",
      " 24  STATE_ID_21                233154 non-null  uint8  \n",
      " 25  STATE_ID_22                233154 non-null  uint8  \n",
      " 26  DISBURSED_BINS_150k-1000k  233154 non-null  uint8  \n",
      " 27  DISBURSED_BINS_30k-45k     233154 non-null  uint8  \n",
      " 28  DISBURSED_BINS_45k-60k     233154 non-null  uint8  \n",
      " 29  DISBURSED_BINS_60k-75k     233154 non-null  uint8  \n",
      " 30  DISBURSED_BINS_75k-150k    233154 non-null  uint8  \n",
      "dtypes: float64(2), int64(3), uint8(26)\n",
      "memory usage: 14.7 MB\n"
     ]
    }
   ],
   "source": [
    "loans_df_sml_dm.info()"
   ]
  },
  {
   "cell_type": "markdown",
   "metadata": {},
   "source": [
    "# Logistic Regression"
   ]
  },
  {
   "cell_type": "code",
   "execution_count": 8,
   "metadata": {},
   "outputs": [],
   "source": [
    "from sklearn.linear_model import LogisticRegression"
   ]
  },
  {
   "cell_type": "code",
   "execution_count": 9,
   "metadata": {},
   "outputs": [],
   "source": [
    "logit = LogisticRegression(max_iter=400)"
   ]
  },
  {
   "cell_type": "code",
   "execution_count": 10,
   "metadata": {},
   "outputs": [],
   "source": [
    "X= loans_df_sml_dm.drop('LOAN_DEFAULT',axis=1)\n",
    "y= loans_df_sml_dm['LOAN_DEFAULT']"
   ]
  },
  {
   "cell_type": "code",
   "execution_count": 11,
   "metadata": {},
   "outputs": [],
   "source": [
    "X_train, X_test, y_train, y_test = train_test_split( X, y, test_size=0.2, random_state=42)"
   ]
  },
  {
   "cell_type": "code",
   "execution_count": 12,
   "metadata": {},
   "outputs": [
    {
     "data": {
      "text/plain": [
       "LogisticRegression(max_iter=400)"
      ]
     },
     "execution_count": 12,
     "metadata": {},
     "output_type": "execute_result"
    }
   ],
   "source": [
    "logit.fit(X_train,y_train)"
   ]
  },
  {
   "cell_type": "code",
   "execution_count": 13,
   "metadata": {},
   "outputs": [
    {
     "data": {
      "text/plain": [
       "array([0, 0, 0, ..., 0, 0, 0])"
      ]
     },
     "execution_count": 13,
     "metadata": {},
     "output_type": "execute_result"
    }
   ],
   "source": [
    "preds = logit.predict(X_test)\n",
    "preds"
   ]
  },
  {
   "cell_type": "code",
   "execution_count": 14,
   "metadata": {},
   "outputs": [
    {
     "data": {
      "text/plain": [
       "0.7820763011730394"
      ]
     },
     "execution_count": 14,
     "metadata": {},
     "output_type": "execute_result"
    }
   ],
   "source": [
    "logit.score(X_test,y_test)"
   ]
  },
  {
   "cell_type": "markdown",
   "metadata": {},
   "source": [
    "## Model Eval"
   ]
  },
  {
   "cell_type": "code",
   "execution_count": 15,
   "metadata": {},
   "outputs": [
    {
     "data": {
      "text/plain": [
       "array([[36445,    32],\n",
       "       [10130,    24]])"
      ]
     },
     "execution_count": 15,
     "metadata": {},
     "output_type": "execute_result"
    }
   ],
   "source": [
    "confusion_matrix(y_test,preds)"
   ]
  },
  {
   "cell_type": "code",
   "execution_count": 16,
   "metadata": {},
   "outputs": [
    {
     "data": {
      "text/plain": [
       "0.42857142857142855"
      ]
     },
     "execution_count": 16,
     "metadata": {},
     "output_type": "execute_result"
    }
   ],
   "source": [
    "precision_score(y_test,preds)"
   ]
  },
  {
   "cell_type": "code",
   "execution_count": 17,
   "metadata": {},
   "outputs": [
    {
     "data": {
      "text/plain": [
       "0.0023636005515067955"
      ]
     },
     "execution_count": 17,
     "metadata": {},
     "output_type": "execute_result"
    }
   ],
   "source": [
    "recall_score(y_test,preds)"
   ]
  },
  {
   "cell_type": "code",
   "execution_count": 18,
   "metadata": {},
   "outputs": [
    {
     "data": {
      "text/plain": [
       "0.004701273261508325"
      ]
     },
     "execution_count": 18,
     "metadata": {},
     "output_type": "execute_result"
    }
   ],
   "source": [
    "f1_score(y_test,preds)"
   ]
  },
  {
   "cell_type": "markdown",
   "metadata": {},
   "source": [
    "## ROC Curve\n",
    "1. pred probability"
   ]
  },
  {
   "cell_type": "code",
   "execution_count": 19,
   "metadata": {},
   "outputs": [],
   "source": [
    "predicted_prob = logit.predict_proba(X_test)"
   ]
  },
  {
   "cell_type": "code",
   "execution_count": 20,
   "metadata": {},
   "outputs": [
    {
     "data": {
      "text/plain": [
       "array([[0.68904645, 0.31095355],\n",
       "       [0.80561799, 0.19438201],\n",
       "       [0.74058118, 0.25941882],\n",
       "       ...,\n",
       "       [0.79787981, 0.20212019],\n",
       "       [0.89352153, 0.10647847],\n",
       "       [0.77998859, 0.22001141]])"
      ]
     },
     "execution_count": 20,
     "metadata": {},
     "output_type": "execute_result"
    }
   ],
   "source": [
    "predicted_prob"
   ]
  },
  {
   "cell_type": "code",
   "execution_count": 21,
   "metadata": {},
   "outputs": [
    {
     "data": {
      "text/plain": [
       "(46631, 2)"
      ]
     },
     "execution_count": 21,
     "metadata": {},
     "output_type": "execute_result"
    }
   ],
   "source": [
    "predicted_prob.shape"
   ]
  },
  {
   "cell_type": "code",
   "execution_count": 22,
   "metadata": {},
   "outputs": [],
   "source": [
    "prob_df = pd.DataFrame()"
   ]
  },
  {
   "cell_type": "code",
   "execution_count": 23,
   "metadata": {},
   "outputs": [],
   "source": [
    "prob_df['0'] = predicted_prob[:,0]\n",
    "prob_df['1'] = predicted_prob[:,1]"
   ]
  },
  {
   "cell_type": "code",
   "execution_count": 24,
   "metadata": {},
   "outputs": [
    {
     "data": {
      "text/plain": [
       "0        0.310954\n",
       "1        0.194382\n",
       "2        0.259419\n",
       "3        0.239418\n",
       "4        0.207505\n",
       "           ...   \n",
       "46626    0.262513\n",
       "46627    0.167418\n",
       "46628    0.202120\n",
       "46629    0.106478\n",
       "46630    0.220011\n",
       "Name: 1, Length: 46631, dtype: float64"
      ]
     },
     "execution_count": 24,
     "metadata": {},
     "output_type": "execute_result"
    }
   ],
   "source": [
    "prob_df['1']"
   ]
  },
  {
   "cell_type": "code",
   "execution_count": 25,
   "metadata": {},
   "outputs": [
    {
     "data": {
      "text/html": [
       "<div>\n",
       "<style scoped>\n",
       "    .dataframe tbody tr th:only-of-type {\n",
       "        vertical-align: middle;\n",
       "    }\n",
       "\n",
       "    .dataframe tbody tr th {\n",
       "        vertical-align: top;\n",
       "    }\n",
       "\n",
       "    .dataframe thead th {\n",
       "        text-align: right;\n",
       "    }\n",
       "</style>\n",
       "<table border=\"1\" class=\"dataframe\">\n",
       "  <thead>\n",
       "    <tr style=\"text-align: right;\">\n",
       "      <th></th>\n",
       "      <th>0</th>\n",
       "      <th>1</th>\n",
       "    </tr>\n",
       "  </thead>\n",
       "  <tbody>\n",
       "    <tr>\n",
       "      <th>count</th>\n",
       "      <td>46631.000000</td>\n",
       "      <td>46631.000000</td>\n",
       "    </tr>\n",
       "    <tr>\n",
       "      <th>mean</th>\n",
       "      <td>0.783407</td>\n",
       "      <td>0.216593</td>\n",
       "    </tr>\n",
       "    <tr>\n",
       "      <th>std</th>\n",
       "      <td>0.070415</td>\n",
       "      <td>0.070415</td>\n",
       "    </tr>\n",
       "    <tr>\n",
       "      <th>min</th>\n",
       "      <td>0.371134</td>\n",
       "      <td>0.033811</td>\n",
       "    </tr>\n",
       "    <tr>\n",
       "      <th>25%</th>\n",
       "      <td>0.740010</td>\n",
       "      <td>0.168352</td>\n",
       "    </tr>\n",
       "    <tr>\n",
       "      <th>50%</th>\n",
       "      <td>0.787113</td>\n",
       "      <td>0.212887</td>\n",
       "    </tr>\n",
       "    <tr>\n",
       "      <th>75%</th>\n",
       "      <td>0.831648</td>\n",
       "      <td>0.259990</td>\n",
       "    </tr>\n",
       "    <tr>\n",
       "      <th>max</th>\n",
       "      <td>0.966189</td>\n",
       "      <td>0.628866</td>\n",
       "    </tr>\n",
       "  </tbody>\n",
       "</table>\n",
       "</div>"
      ],
      "text/plain": [
       "                  0             1\n",
       "count  46631.000000  46631.000000\n",
       "mean       0.783407      0.216593\n",
       "std        0.070415      0.070415\n",
       "min        0.371134      0.033811\n",
       "25%        0.740010      0.168352\n",
       "50%        0.787113      0.212887\n",
       "75%        0.831648      0.259990\n",
       "max        0.966189      0.628866"
      ]
     },
     "execution_count": 25,
     "metadata": {},
     "output_type": "execute_result"
    }
   ],
   "source": [
    "prob_df.describe()"
   ]
  },
  {
   "cell_type": "code",
   "execution_count": 26,
   "metadata": {},
   "outputs": [],
   "source": [
    "#plotting\n",
    "fpr,tpr,threshold = roc_curve(y_test,prob_df['1'],pos_label=1)"
   ]
  },
  {
   "cell_type": "code",
   "execution_count": 27,
   "metadata": {},
   "outputs": [
    {
     "name": "stdout",
     "output_type": "stream",
     "text": [
      "FPR:  [0.00000000e+00 2.74145352e-05 8.22436056e-05 ... 9.99835513e-01\n",
      " 9.99835513e-01 1.00000000e+00]\n",
      "TPR:  [0.         0.         0.         ... 0.99990152 1.         1.        ]\n",
      "Threshold:  [1.62886631 0.62886631 0.60028671 ... 0.04727671 0.04706298 0.03381073]\n"
     ]
    }
   ],
   "source": [
    "print('FPR: ', fpr)\n",
    "print('TPR: ', tpr)\n",
    "print('Threshold: ', threshold)"
   ]
  },
  {
   "cell_type": "code",
   "execution_count": 28,
   "metadata": {},
   "outputs": [],
   "source": [
    "roc_df = pd.DataFrame()"
   ]
  },
  {
   "cell_type": "code",
   "execution_count": 29,
   "metadata": {},
   "outputs": [],
   "source": [
    "roc_df['fpr'] = fpr \n",
    "roc_df['tpr'] = tpr\n",
    "roc_df['threshold'] = threshold"
   ]
  },
  {
   "cell_type": "code",
   "execution_count": 30,
   "metadata": {},
   "outputs": [
    {
     "data": {
      "text/html": [
       "<div>\n",
       "<style scoped>\n",
       "    .dataframe tbody tr th:only-of-type {\n",
       "        vertical-align: middle;\n",
       "    }\n",
       "\n",
       "    .dataframe tbody tr th {\n",
       "        vertical-align: top;\n",
       "    }\n",
       "\n",
       "    .dataframe thead th {\n",
       "        text-align: right;\n",
       "    }\n",
       "</style>\n",
       "<table border=\"1\" class=\"dataframe\">\n",
       "  <thead>\n",
       "    <tr style=\"text-align: right;\">\n",
       "      <th></th>\n",
       "      <th>fpr</th>\n",
       "      <th>tpr</th>\n",
       "      <th>threshold</th>\n",
       "    </tr>\n",
       "  </thead>\n",
       "  <tbody>\n",
       "    <tr>\n",
       "      <th>count</th>\n",
       "      <td>16475.000000</td>\n",
       "      <td>16475.000000</td>\n",
       "      <td>16475.000000</td>\n",
       "    </tr>\n",
       "    <tr>\n",
       "      <th>mean</th>\n",
       "      <td>0.411093</td>\n",
       "      <td>0.527197</td>\n",
       "      <td>0.231952</td>\n",
       "    </tr>\n",
       "    <tr>\n",
       "      <th>std</th>\n",
       "      <td>0.277099</td>\n",
       "      <td>0.284024</td>\n",
       "      <td>0.070507</td>\n",
       "    </tr>\n",
       "    <tr>\n",
       "      <th>min</th>\n",
       "      <td>0.000000</td>\n",
       "      <td>0.000000</td>\n",
       "      <td>0.033811</td>\n",
       "    </tr>\n",
       "    <tr>\n",
       "      <th>25%</th>\n",
       "      <td>0.168928</td>\n",
       "      <td>0.286488</td>\n",
       "      <td>0.185241</td>\n",
       "    </tr>\n",
       "    <tr>\n",
       "      <th>50%</th>\n",
       "      <td>0.379116</td>\n",
       "      <td>0.539886</td>\n",
       "      <td>0.227062</td>\n",
       "    </tr>\n",
       "    <tr>\n",
       "      <th>75%</th>\n",
       "      <td>0.632261</td>\n",
       "      <td>0.773538</td>\n",
       "      <td>0.272233</td>\n",
       "    </tr>\n",
       "    <tr>\n",
       "      <th>max</th>\n",
       "      <td>1.000000</td>\n",
       "      <td>1.000000</td>\n",
       "      <td>1.628866</td>\n",
       "    </tr>\n",
       "  </tbody>\n",
       "</table>\n",
       "</div>"
      ],
      "text/plain": [
       "                fpr           tpr     threshold\n",
       "count  16475.000000  16475.000000  16475.000000\n",
       "mean       0.411093      0.527197      0.231952\n",
       "std        0.277099      0.284024      0.070507\n",
       "min        0.000000      0.000000      0.033811\n",
       "25%        0.168928      0.286488      0.185241\n",
       "50%        0.379116      0.539886      0.227062\n",
       "75%        0.632261      0.773538      0.272233\n",
       "max        1.000000      1.000000      1.628866"
      ]
     },
     "execution_count": 30,
     "metadata": {},
     "output_type": "execute_result"
    }
   ],
   "source": [
    "roc_df.describe()"
   ]
  },
  {
   "cell_type": "code",
   "execution_count": 31,
   "metadata": {},
   "outputs": [],
   "source": [
    "roc_auc = auc(fpr,tpr)"
   ]
  },
  {
   "cell_type": "code",
   "execution_count": 32,
   "metadata": {},
   "outputs": [
    {
     "name": "stdout",
     "output_type": "stream",
     "text": [
      "AUC:  0.6136385630530719\n"
     ]
    }
   ],
   "source": [
    "print('AUC: ', roc_auc)"
   ]
  },
  {
   "cell_type": "markdown",
   "metadata": {},
   "source": [
    "## ROC Curve Function"
   ]
  },
  {
   "cell_type": "code",
   "execution_count": 33,
   "metadata": {},
   "outputs": [],
   "source": [
    "def plot_roc_curve(fpr, tpr, roc_auc):\n",
    "    plt.title('Receiver Operating Characteristic')\n",
    "    plt.plot(fpr, tpr, 'b', label = 'AUC = %0.2f' % roc_auc)\n",
    "    plt.legend(loc = 'lower right')\n",
    "    plt.plot([0, 1], [0, 1],'r--')\n",
    "    plt.xlim([0, 1])\n",
    "    plt.ylim([0, 1])\n",
    "    plt.ylabel('True Positive Rate')\n",
    "    plt.xlabel('False Positive Rate')\n",
    "    plt.show()"
   ]
  },
  {
   "cell_type": "code",
   "execution_count": 34,
   "metadata": {},
   "outputs": [
    {
     "data": {
      "image/png": "[encoded data removed]",
      "text/plain": [
       "<Figure size 640x480 with 1 Axes>"
      ]
     },
     "metadata": {},
     "output_type": "display_data"
    }
   ],
   "source": [
    "plot_roc_curve(fpr,tpr,roc_auc)"
   ]
  },
  {
   "cell_type": "markdown",
   "metadata": {},
   "source": [
    "## Advanced Evaluation"
   ]
  },
  {
   "cell_type": "code",
   "execution_count": 35,
   "metadata": {},
   "outputs": [],
   "source": [
    "results_df = pd.DataFrame()"
   ]
  },
  {
   "cell_type": "code",
   "execution_count": 36,
   "metadata": {},
   "outputs": [],
   "source": [
    "results_df['true_class'] = y_test\n",
    "results_df['predicted_class'] = list(preds)\n",
    "results_df['default_prob'] = predicted_prob[:,1]"
   ]
  },
  {
   "cell_type": "code",
   "execution_count": 37,
   "metadata": {},
   "outputs": [
    {
     "data": {
      "text/html": [
       "<div>\n",
       "<style scoped>\n",
       "    .dataframe tbody tr th:only-of-type {\n",
       "        vertical-align: middle;\n",
       "    }\n",
       "\n",
       "    .dataframe tbody tr th {\n",
       "        vertical-align: top;\n",
       "    }\n",
       "\n",
       "    .dataframe thead th {\n",
       "        text-align: right;\n",
       "    }\n",
       "</style>\n",
       "<table border=\"1\" class=\"dataframe\">\n",
       "  <thead>\n",
       "    <tr style=\"text-align: right;\">\n",
       "      <th></th>\n",
       "      <th>true_class</th>\n",
       "      <th>predicted_class</th>\n",
       "      <th>default_prob</th>\n",
       "    </tr>\n",
       "  </thead>\n",
       "  <tbody>\n",
       "    <tr>\n",
       "      <th>1197</th>\n",
       "      <td>1</td>\n",
       "      <td>0</td>\n",
       "      <td>0.310954</td>\n",
       "    </tr>\n",
       "    <tr>\n",
       "      <th>109250</th>\n",
       "      <td>0</td>\n",
       "      <td>0</td>\n",
       "      <td>0.194382</td>\n",
       "    </tr>\n",
       "    <tr>\n",
       "      <th>171069</th>\n",
       "      <td>0</td>\n",
       "      <td>0</td>\n",
       "      <td>0.259419</td>\n",
       "    </tr>\n",
       "    <tr>\n",
       "      <th>227346</th>\n",
       "      <td>0</td>\n",
       "      <td>0</td>\n",
       "      <td>0.239418</td>\n",
       "    </tr>\n",
       "    <tr>\n",
       "      <th>136799</th>\n",
       "      <td>0</td>\n",
       "      <td>0</td>\n",
       "      <td>0.207505</td>\n",
       "    </tr>\n",
       "    <tr>\n",
       "      <th>...</th>\n",
       "      <td>...</td>\n",
       "      <td>...</td>\n",
       "      <td>...</td>\n",
       "    </tr>\n",
       "    <tr>\n",
       "      <th>82125</th>\n",
       "      <td>0</td>\n",
       "      <td>0</td>\n",
       "      <td>0.262513</td>\n",
       "    </tr>\n",
       "    <tr>\n",
       "      <th>127030</th>\n",
       "      <td>0</td>\n",
       "      <td>0</td>\n",
       "      <td>0.167418</td>\n",
       "    </tr>\n",
       "    <tr>\n",
       "      <th>125013</th>\n",
       "      <td>0</td>\n",
       "      <td>0</td>\n",
       "      <td>0.202120</td>\n",
       "    </tr>\n",
       "    <tr>\n",
       "      <th>11053</th>\n",
       "      <td>0</td>\n",
       "      <td>0</td>\n",
       "      <td>0.106478</td>\n",
       "    </tr>\n",
       "    <tr>\n",
       "      <th>100097</th>\n",
       "      <td>0</td>\n",
       "      <td>0</td>\n",
       "      <td>0.220011</td>\n",
       "    </tr>\n",
       "  </tbody>\n",
       "</table>\n",
       "<p>46631 rows × 3 columns</p>\n",
       "</div>"
      ],
      "text/plain": [
       "        true_class  predicted_class  default_prob\n",
       "1197             1                0      0.310954\n",
       "109250           0                0      0.194382\n",
       "171069           0                0      0.259419\n",
       "227346           0                0      0.239418\n",
       "136799           0                0      0.207505\n",
       "...            ...              ...           ...\n",
       "82125            0                0      0.262513\n",
       "127030           0                0      0.167418\n",
       "125013           0                0      0.202120\n",
       "11053            0                0      0.106478\n",
       "100097           0                0      0.220011\n",
       "\n",
       "[46631 rows x 3 columns]"
      ]
     },
     "execution_count": 37,
     "metadata": {},
     "output_type": "execute_result"
    }
   ],
   "source": [
    "results_df"
   ]
  },
  {
   "cell_type": "code",
   "execution_count": 38,
   "metadata": {},
   "outputs": [
    {
     "data": {
      "text/plain": [
       "true_class  predicted_class\n",
       "0           0                  36445\n",
       "1           0                  10130\n",
       "0           1                     32\n",
       "1           1                     24\n",
       "dtype: int64"
      ]
     },
     "execution_count": 38,
     "metadata": {},
     "output_type": "execute_result"
    }
   ],
   "source": [
    "results_df[['true_class','predicted_class']].value_counts()"
   ]
  },
  {
   "cell_type": "code",
   "execution_count": 39,
   "metadata": {},
   "outputs": [
    {
     "data": {
      "text/plain": [
       "0.0023636005515067955"
      ]
     },
     "execution_count": 39,
     "metadata": {},
     "output_type": "execute_result"
    }
   ],
   "source": [
    "# TPR = TP/TP+FN\n",
    "TPR = 24/(24+10130)\n",
    "TPR"
   ]
  },
  {
   "cell_type": "code",
   "execution_count": 40,
   "metadata": {},
   "outputs": [
    {
     "data": {
      "text/plain": [
       "0.0008772651259697892"
      ]
     },
     "execution_count": 40,
     "metadata": {},
     "output_type": "execute_result"
    }
   ],
   "source": [
    "# FPR = FP/(FP+TN)\n",
    "FPR = 32/(32+36445)\n",
    "FPR"
   ]
  },
  {
   "cell_type": "code",
   "execution_count": 41,
   "metadata": {},
   "outputs": [
    {
     "data": {
      "text/plain": [
       "true_class  predicted_class\n",
       "0           0                  0.999123\n",
       "            1                  0.000877\n",
       "1           0                  0.997636\n",
       "            1                  0.002364\n",
       "Name: predicted_class, dtype: float64"
      ]
     },
     "execution_count": 41,
     "metadata": {},
     "output_type": "execute_result"
    }
   ],
   "source": [
    "results_df.groupby('true_class')['predicted_class'].value_counts(normalize=True)"
   ]
  },
  {
   "cell_type": "code",
   "execution_count": 42,
   "metadata": {},
   "outputs": [],
   "source": [
    "prob_default_f = results_df[results_df['true_class'] == 0]['default_prob']"
   ]
  },
  {
   "cell_type": "code",
   "execution_count": 43,
   "metadata": {},
   "outputs": [],
   "source": [
    "prob_default_t = results_df[results_df['true_class'] == 1]['default_prob']"
   ]
  },
  {
   "cell_type": "code",
   "execution_count": 44,
   "metadata": {},
   "outputs": [
    {
     "data": {
      "image/png": "[encoded data removed]",
      "text/plain": [
       "<Figure size 640x480 with 1 Axes>"
      ]
     },
     "metadata": {},
     "output_type": "display_data"
    }
   ],
   "source": [
    "sns.kdeplot(prob_default_f,label='Non-Default')\n",
    "sns.kdeplot(prob_default_t,label='Default')\n",
    "plt.legend()\n",
    "plt.show()"
   ]
  },
  {
   "cell_type": "markdown",
   "metadata": {},
   "source": [
    "## Model Eval Function"
   ]
  },
  {
   "cell_type": "code",
   "execution_count": 46,
   "metadata": {},
   "outputs": [],
   "source": [
    "def eval_model_2(model, x_test, y_test):\n",
    "    preds = model.predict(x_test)\n",
    "    probs = model.predict_proba(x_test)\n",
    "\n",
    "    accuracy = accuracy_score(y_test, preds)\n",
    "    recall = recall_score(y_test, preds)\n",
    "    precision = precision_score(y_test, preds)\n",
    "    f1 = f1_score(y_test, preds)\n",
    "\n",
    "    print(\"\\n\")\n",
    "    print(\"Accuracy: \", accuracy)\n",
    "    print(\"Precision: \", precision)\n",
    "    print(\"Recall: \", recall)\n",
    "    print(\"F1: \", f1)\n",
    "\n",
    "    #Show ROC Curve\n",
    "    fpr, tpr, threshold = roc_curve(y_test, probs[:,1], pos_label=1)\n",
    "    roc_auc = auc(fpr, tpr)\n",
    "    print(\"AUC: \", roc_auc)\n",
    "\n",
    "    plot_roc_curve(fpr, tpr, roc_auc)\n",
    "\n",
    "    results_df = pd.DataFrame()\n",
    "    results_df['true_class'] = y_test\n",
    "    results_df['predicted_class'] = list(preds)\n",
    "    results_df['default_prob'] = probs[:, 1]\n",
    "\n",
    "    #plot the distribution of probabilities for the estimated classes\n",
    "    sns.kdeplot(results_df[results_df['true_class'] == 0]['default_prob'], label=\"No Default\")\n",
    "    sns.kdeplot(results_df[results_df['true_class'] == 1]['default_prob'], label=\"Default\")\n",
    "    plt.show()\n",
    "\n",
    "    #see the true class versus predicted class as a percentage\n",
    "    print(results_df.groupby('true_class')['predicted_class'].value_counts(normalize=True))"
   ]
  },
  {
   "cell_type": "code",
   "execution_count": null,
   "metadata": {},
   "outputs": [],
   "source": []
  },
  {
   "cell_type": "code",
   "execution_count": 47,
   "metadata": {},
   "outputs": [
    {
     "name": "stdout",
     "output_type": "stream",
     "text": [
      "\n",
      "\n",
      "Accuracy:  0.7820763011730394\n",
      "Precision:  0.42857142857142855\n",
      "Recall:  0.0023636005515067955\n",
      "F1:  0.004701273261508325\n",
      "AUC:  0.6136385630530719\n"
     ]
    },
    {
     "data": {
      "image/png": "[encoded data removed]",
      "text/plain": [
       "<Figure size 640x480 with 1 Axes>"
      ]
     },
     "metadata": {},
     "output_type": "display_data"
    },
    {
     "data": {
      "image/png": "[encoded data removed]",
      "text/plain": [
       "<Figure size 640x480 with 1 Axes>"
      ]
     },
     "metadata": {},
     "output_type": "display_data"
    },
    {
     "name": "stdout",
     "output_type": "stream",
     "text": [
      "true_class  predicted_class\n",
      "0           0                  0.999123\n",
      "            1                  0.000877\n",
      "1           0                  0.997636\n",
      "            1                  0.002364\n",
      "Name: predicted_class, dtype: float64\n"
     ]
    }
   ],
   "source": [
    "eval_model_2(logit,X_test,y_test)"
   ]
  },
  {
   "cell_type": "code",
   "execution_count": null,
   "metadata": {},
   "outputs": [],
   "source": []
  }
 ],
 "metadata": {
  "kernelspec": {
   "display_name": "base",
   "language": "python",
   "name": "python3"
  },
  "language_info": {
   "codemirror_mode": {
    "name": "ipython",
    "version": 3
   },
   "file_extension": ".py",
   "mimetype": "text/x-python",
   "name": "python",
   "nbconvert_exporter": "python",
   "pygments_lexer": "ipython3",
   "version": "3.9.13"
  }
 },
 "nbformat": 4,
 "nbformat_minor": 2
}
